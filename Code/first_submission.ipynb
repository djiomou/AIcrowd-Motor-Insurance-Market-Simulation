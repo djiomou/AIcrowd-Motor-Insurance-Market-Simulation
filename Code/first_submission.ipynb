{
  "nbformat": 4,
  "nbformat_minor": 0,
  "metadata": {
    "kernelspec": {
      "display_name": "R",
      "language": "R",
      "name": "ir"
    },
    "language_info": {
      "codemirror_mode": "r",
      "file_extension": ".r",
      "mimetype": "text/x-r-source",
      "name": "R",
      "pygments_lexer": "r",
      "version": "3.6.1"
    },
    "colab": {
      "name": "first_submission",
      "provenance": [],
      "collapsed_sections": []
    }
  },
  "cells": [
    {
      "cell_type": "markdown",
      "metadata": {
        "id": "3SDF1057Kya4"
      },
      "source": [
        "# Packages 🗃"
      ]
    },
    {
      "cell_type": "code",
      "metadata": {
        "colab": {
          "base_uri": "https://localhost:8080/"
        },
        "id": "_CZOoT4qKsq2",
        "outputId": "abcfe6ed-fd6f-42c0-858c-c090f01d9ace"
      },
      "source": [
        "install_packages <- function(){\r\n",
        "  install.packages(\"caret\")\r\n",
        "  install.packages(\"rpart\")\r\n",
        "  install.packages(\"dplyr\") \r\n",
        "}\r\n",
        "install_packages()"
      ],
      "execution_count": 73,
      "outputs": [
        {
          "output_type": "stream",
          "text": [
            "Installing package into ‘/usr/local/lib/R/site-library’\n",
            "(as ‘lib’ is unspecified)\n",
            "\n",
            "Installing package into ‘/usr/local/lib/R/site-library’\n",
            "(as ‘lib’ is unspecified)\n",
            "\n",
            "Installing package into ‘/usr/local/lib/R/site-library’\n",
            "(as ‘lib’ is unspecified)\n",
            "\n"
          ],
          "name": "stderr"
        }
      ]
    },
    {
      "cell_type": "code",
      "metadata": {
        "colab": {
          "base_uri": "https://localhost:8080/"
        },
        "id": "bAoocMpcLGu6",
        "outputId": "460f0f06-81f8-40e9-d33e-baca1aeca7f9"
      },
      "source": [
        "global_imports <- function()\r\n",
        "{\r\n",
        "  require(\"caret\")\r\n",
        "  require(\"rpart\")\r\n",
        "  require(\"dplyr\")\r\n",
        "}\r\n",
        "global_imports()"
      ],
      "execution_count": 74,
      "outputs": [
        {
          "output_type": "stream",
          "text": [
            "Loading required package: rpart\n",
            "\n"
          ],
          "name": "stderr"
        }
      ]
    },
    {
      "cell_type": "markdown",
      "metadata": {
        "id": "K5rXwxwXLSUU"
      },
      "source": [
        "# Loading the data 📲"
      ]
    },
    {
      "cell_type": "code",
      "metadata": {
        "id": "HPabiGtTLUoh"
      },
      "source": [
        "db <- read.csv2(\"training.csv\",sep=',',dec='.')"
      ],
      "execution_count": 75,
      "outputs": []
    },
    {
      "cell_type": "code",
      "metadata": {
        "id": "2H5bpos-rBpd"
      },
      "source": [
        "Xdata = within(db, rm('claim_amount'))\r\n",
        "ydata = db['claim_amount']"
      ],
      "execution_count": 76,
      "outputs": []
    },
    {
      "cell_type": "markdown",
      "metadata": {
        "id": "NEfcIwZ6LgA7"
      },
      "source": [
        ""
      ]
    },
    {
      "cell_type": "code",
      "metadata": {
        "id": "byo8xzTuLh8G"
      },
      "source": [
        "preprocess_X_data <- function (x_raw){\r\n",
        "\t# Data preprocessing function: given X_raw, clean the data for training or prediction.\r\n",
        "\r\n",
        "\t# Parameters\r\n",
        "\t# ----------\r\n",
        "\t# X_raw : Dataframe, with the columns described in the data dictionary.\r\n",
        "\t# \tEach row is a different contract. This data has not been processed.\r\n",
        "\r\n",
        "\t# Returns\r\n",
        "\t# -------\r\n",
        "\t# A cleaned / preprocessed version of the dataset\r\n",
        "\r\n",
        "  # YOUR CODE HERE ------------------------------------------------------\r\n",
        "\r\n",
        "  # picking features to remove\r\n",
        "  #to_remove <- c(\"id_policy\",\"year\",\"drv_sex2\",\"drv_age2\",\"drv_age_lic2\",\"vh_make_model\",\"vh_weight\",\"drv_age_lic1\",\"vh_value\",\"pol_no_claims_discount\",\"pol_pay_freq\",\"vh_type\",\"vh_fuel\")\r\n",
        "  #X <- x_raw[names(x_raw)[-which(names(x_raw)%in%to_remove)]]\r\n",
        "  X <-  dplyr::select( x_raw , -c(\"id_policy\",\"year\",\"drv_sex2\",\"drv_age2\",\"drv_age_lic2\",\"vh_make_model\",\"vh_weight\",\"drv_age_lic1\",\"vh_value\",\"pol_no_claims_discount\",\"pol_pay_freq\",\"vh_type\",\"vh_fuel\"))\r\n",
        "  # dealing with missing data\r\n",
        "  imp <- preProcess(X, method = \"medianImpute\")\r\n",
        "  X_clean<- predict(imp, X)\r\n",
        "\r\n",
        "  # dealing with categorial variables\r\n",
        "    X_clean = X_clean %>% \r\n",
        "        mutate(pol_coverage = factor(pol_coverage)) %>%\r\n",
        "        mutate(pol_usage=as.factor(ifelse(pol_usage==\"AllTrips\",\"Professional\",as.character(pol_usage)))) %>% \r\n",
        "        mutate( drv_sex1 = factor(drv_sex1)) %>% \r\n",
        "        mutate( drv_drv2 = factor(drv_drv2)) %>%\r\n",
        "        mutate( pol_payd = factor(pol_payd)) \r\n",
        "       \r\n",
        "   \r\n",
        "  # dealing with continuous variables\r\n",
        "  # drv_age1 is correlated to drv_age_lc1. also vh_weigth and vh_value. we have to choose onlyone of them\r\n",
        "\r\n",
        "  # Binerizsation\r\n",
        "  #cuts_vh_age = quantile(X_clean$vh_age,seq(0, 1, 0.25))\r\n",
        "  #X_clean$vh_age_factor = cut(X_clean$vh_age, breaks=cuts_vh_age)\r\n",
        "\r\n",
        "  #cuts_drv_age = quantile(X_clean$drv_age1,seq(0, 1, 0.25))\r\n",
        "  #X_clean$drv_age_factor = cut(X_clean$drv_age1, breaks=cuts_drv_age)\r\n",
        "\r\n",
        "  #X_clean <- dplyr::select(X_clean,-drv_age1)\r\n",
        " \r\n",
        "  remove(list = c(\"X\",\"imp\")) \r\n",
        "  # ---------------------------------------------------------------------\r\n",
        "  return(X_clean)\r\n",
        "}"
      ],
      "execution_count": 77,
      "outputs": []
    },
    {
      "cell_type": "code",
      "metadata": {
        "id": "Slv-hkCDsNUc"
      },
      "source": [
        "res<-preprocess_X_data(Xdata)"
      ],
      "execution_count": 78,
      "outputs": []
    },
    {
      "cell_type": "code",
      "metadata": {
        "id": "jIVcr6UksYQq"
      },
      "source": [
        "set.seed(432)\r\n",
        "trainIndex<- createDataPartition(1:nrow(X_clean), p = 0.8,list = FALSE) \r\n",
        "df = data.frame(y_clean, X_clean)\r\n",
        "X_train<-X_clean[trainIndex,]\r\n",
        "y_train<-y_clean[trainIndex]\r\n",
        "X_test<-X_clean[-trainIndex,]\r\n",
        "y_test<-y_clean[-trainIndex]"
      ],
      "execution_count": 79,
      "outputs": []
    },
    {
      "cell_type": "markdown",
      "metadata": {
        "id": "DrpMdu72my-k"
      },
      "source": [
        "## Define the training logic"
      ]
    },
    {
      "cell_type": "code",
      "metadata": {
        "id": "e9wzf5vMmiK4"
      },
      "source": [
        "fit_model <- function (x_raw, y_raw){  # ! \r\n",
        "\t# Model training function: given training data (X_raw, y_raw), train this pricing model.\r\n",
        "\r\n",
        "\t# Parameters\r\n",
        "\t# ----------\r\n",
        "\t# X_raw : Dataframe, with the columns described in the data dictionary.\r\n",
        "\t# \tEach row is a different contract. This data has not been processed.\r\n",
        "\t# y_raw : a array, with the value of the claims, in the same order as contracts in X_raw.\r\n",
        "\t# \tA one dimensional array, with values either 0 (most entries) or >0.\r\n",
        "\r\n",
        "\t# Returns\r\n",
        "\t# -------\r\n",
        "\t# self: (optional), this instance of the fitted model.\r\n",
        "\r\n",
        "\t\r\n",
        "  # This function trains your models and returns the trained model.\r\n",
        "  \r\n",
        "  # YOUR CODE HERE ------------------------------------------------------\r\n",
        "\r\n",
        "  X_clean = preprocess_X_data(x_raw)  # preprocess your data before fitting\r\n",
        "  df = data.frame(y_raw, X_clean)\r\n",
        "  rm(X_clean)\r\n",
        "  # training frequency model (i.e. how often do claims occur)\r\n",
        "  trained_model_frequency = glm(I(claim_amount>0) ~ .,\r\n",
        "                                family = binomial,\r\n",
        "                                offset= log(pol_duration),\r\n",
        "                                data = df)                              \r\n",
        "\r\n",
        "  # training a mean severity model (i.e. what is the average claim cost)\r\n",
        "  trained_model_avg_severity = lm(log(claim_amount) ~ 1,\r\n",
        "                                data = df,\r\n",
        "                                offset =log(pol_duration),\r\n",
        "                                subset = claim_amount>0)\r\n",
        "  rm(df)\r\n",
        "  \r\n",
        "  # defining a list and putting the trained models in there\r\n",
        "  trained_model = list(occurence = trained_model_frequency,\r\n",
        "                       cost = trained_model_avg_severity)\r\n",
        "\r\n",
        "  # ---------------------------------------------------------------------\r\n",
        "  # The result trained_model is something that you will save in the next section\r\n",
        "  \r\n",
        "  return(trained_model)\r\n",
        "}"
      ],
      "execution_count": 80,
      "outputs": []
    },
    {
      "cell_type": "code",
      "metadata": {
        "id": "SF-MxjUTnDoI"
      },
      "source": [
        "model = fit_model(Xdata, ydata)"
      ],
      "execution_count": 81,
      "outputs": []
    },
    {
      "cell_type": "markdown",
      "metadata": {
        "id": "Xkmf8IbdnKh1"
      },
      "source": [
        "## Saving your model"
      ]
    },
    {
      "cell_type": "code",
      "metadata": {
        "id": "kJlhVWzUnMeh"
      },
      "source": [
        "save_model <- function(model){\r\n",
        "  # Saves this trained model to a file.\r\n",
        "\r\n",
        "  # This is used to save the model after training, so that it can be used for prediction later.\r\n",
        "\r\n",
        "  # Do not touch this unless necessary (if you need specific features). If you do, do not\r\n",
        "  #  forget to update the load_model method to be compatible.\r\n",
        "\t\r\n",
        "  # The default is to save it in 'trained_model.RData', but change this if you \r\n",
        "  # are using a pacakge that requires a different saving format.\r\n",
        "  # For h2o models see this discussion: https://discourse.aicrowd.com/t/any-tips-for-successfully-submitting-an-h2o-model/4194/\r\n",
        "\r\n",
        "  save(model, file='trained_model.RData')\r\n",
        "}"
      ],
      "execution_count": 82,
      "outputs": []
    },
    {
      "cell_type": "code",
      "metadata": {
        "id": "yLvgT69JoKVm"
      },
      "source": [
        "load_model <- function(){ \r\n",
        " # Load a saved trained model from the file `trained_model.RData`.\r\n",
        " # This is called by the server to evaluate your submission on hidden data.\r\n",
        "\r\n",
        "\r\n",
        " # Only modify this *if* you modified save_model.\r\n",
        "\r\n",
        "  load('trained_model.RData')\r\n",
        "  return(model)\r\n",
        "}"
      ],
      "execution_count": 83,
      "outputs": []
    },
    {
      "cell_type": "code",
      "metadata": {
        "id": "1so7F4OwoXDM"
      },
      "source": [
        "#model = load_model(MODEL_OUTPUT_PATH)"
      ],
      "execution_count": 85,
      "outputs": []
    },
    {
      "cell_type": "markdown",
      "metadata": {
        "id": "w5SHaeAKocDQ"
      },
      "source": [
        "# Predicting the claims 💵\r\n",
        "\r\n",
        "The second function, `predict_expected_claim`, takes your trained model and a dataframe of contracts, and outputs a prediction for the (expected) claim incurred by each contract. This expected claim can be seen as the probability of an accident multiplied by the cost of that accident.\r\n",
        "\r\n",
        "This is the function used to compute the _RMSE_ leaderboard, where the model best able to predict claims wins."
      ]
    },
    {
      "cell_type": "code",
      "metadata": {
        "id": "WclbGFcFozrr"
      },
      "source": [
        "predict_expected_claim <- function(model, x_raw){\r\n",
        "\t# Model prediction function: predicts the average claim based on the pricing model.\r\n",
        "\r\n",
        "\t# This functions estimates the expected claim made by a contract (typically, as the product\r\n",
        "\t# of the probability of having a claim multiplied by the average cost of a claim if it occurs),\r\n",
        "\t# for each contract in the dataset X_raw.\r\n",
        "\r\n",
        "\t# This is the function used in the RMSE leaderboard, and hence the output should be as close\r\n",
        "\t# as possible to the expected cost of a contract.\r\n",
        "\r\n",
        "\t# Parameters\r\n",
        "\t# ----------\r\n",
        "\t# X_raw : Dataframe, with the columns described in the data dictionary.\r\n",
        "\t# \tEach row is a different contract. This data has not been processed.\r\n",
        "\r\n",
        "\t# Returns\r\n",
        "\t# -------\r\n",
        "\t# avg_claims: a one-dimensional array of the same length as X_raw, with one\r\n",
        "\t#     average claim per contract (in same order). These average claims must be POSITIVE (>0).\r\n",
        "\r\n",
        "\r\n",
        "  # YOUR CODE HERE ------------------------------------------------------\r\n",
        "\r\n",
        "  X_clean = preprocess_X_data(x_raw)  # preprocess your data before fitting\r\n",
        "\r\n",
        "  expected_frequency = predict(model$occurence, newdata = X_clean, type= \"response\")\r\n",
        "  expected_severity = exp(predict(model$cost, newdata = X_clean, type= \"response\"))\r\n",
        "\r\n",
        "  expected_claims = expected_frequency * expected_severity\r\n",
        "  rm(X_clean)\r\n",
        "\r\n",
        "  return(expected_claims)  \r\n",
        "}"
      ],
      "execution_count": 86,
      "outputs": []
    },
    {
      "cell_type": "code",
      "metadata": {
        "id": "27fDZBIepCzN"
      },
      "source": [
        "claims <- predict_expected_claim(model, Xdata)"
      ],
      "execution_count": 87,
      "outputs": []
    },
    {
      "cell_type": "markdown",
      "metadata": {
        "id": "rwFnHKBipI__"
      },
      "source": [
        "# Pricing contracts 💰\r\n",
        "\r\n",
        "The third and final function, `predict_premium`, takes your trained model and a dataframe of contracts, and outputs a _price_ for each of these contracts. **You are free to set this prices however you want!** These prices will then be used in competition with other models: contracts will choose the model offering the lowest price, and this model will have to pay the cost if an accident occurs.\r\n",
        "\r\n",
        "This is the function used to compute the _profit_ leaderboard: your model will participate in many markets of size 10, populated by other participants' model, and we compute the average profit of your model over all the markets it participated in."
      ]
    },
    {
      "cell_type": "code",
      "metadata": {
        "id": "T7vKC2SJpMyJ"
      },
      "source": [
        "predict_premium <- function(model, x_raw){\r\n",
        "  # Model prediction function: predicts premiums based on the pricing model.\r\n",
        "\r\n",
        "  # This function outputs the prices that will be offered to the contracts in X_raw.\r\n",
        "  # premium will typically depend on the average claim predicted in \r\n",
        "  # predict_expected_claim, and will add some pricing strategy on top.\r\n",
        "\r\n",
        "  # This is the function used in the average profit leaderboard. Prices output here will\r\n",
        "  # be used in competition with other models, so feel free to use a pricing strategy.\r\n",
        "\r\n",
        "  # Parameters\r\n",
        "  # ----------\r\n",
        "  # X_raw : Dataframe, with the columns described in the data dictionary.\r\n",
        "  # \tEach row is a different contract. This data has not been processed.\r\n",
        "\r\n",
        "  # Returns\r\n",
        "  # -------\r\n",
        "  # prices: a one-dimensional array of the same length as X_raw, with one\r\n",
        "  #     price per contract (in same order). These prices must be POSITIVE (>0).\r\n",
        "\r\n",
        "\r\n",
        "  # YOUR CODE HERE ------------------------------------------------------\r\n",
        "  \r\n",
        "  return(predict_expected_claim(model, x_raw) * 1.5) # boost prices by 50%\r\n",
        "}\r\n"
      ],
      "execution_count": 88,
      "outputs": []
    },
    {
      "cell_type": "code",
      "metadata": {
        "id": "i4UdEMrQppgC",
        "colab": {
          "base_uri": "https://localhost:8080/",
          "height": 236
        },
        "outputId": "abea1fec-0154-4bbf-b3d5-c35750a84d60"
      },
      "source": [
        "prices <- predict_premium(model, Xdata)\r\n",
        "as.matrix(head(prices))"
      ],
      "execution_count": 89,
      "outputs": [
        {
          "output_type": "display_data",
          "data": {
            "text/plain": [
              "  [,1]     \n",
              "1 64.030718\n",
              "2 77.556130\n",
              "3  8.474777\n",
              "4 87.795035\n",
              "5 10.669359\n",
              "6 91.077175"
            ],
            "text/latex": "A matrix: 6 × 1 of type dbl\n\\begin{tabular}{r|l}\n\t1 & 64.030718\\\\\n\t2 & 77.556130\\\\\n\t3 &  8.474777\\\\\n\t4 & 87.795035\\\\\n\t5 & 10.669359\\\\\n\t6 & 91.077175\\\\\n\\end{tabular}\n",
            "text/markdown": "\nA matrix: 6 × 1 of type dbl\n\n| 1 | 64.030718 |\n| 2 | 77.556130 |\n| 3 |  8.474777 |\n| 4 | 87.795035 |\n| 5 | 10.669359 |\n| 6 | 91.077175 |\n\n",
            "text/html": [
              "<table class=\"dataframe\">\n",
              "<caption>A matrix: 6 × 1 of type dbl</caption>\n",
              "<tbody>\n",
              "\t<tr><th scope=row>1</th><td>64.030718</td></tr>\n",
              "\t<tr><th scope=row>2</th><td>77.556130</td></tr>\n",
              "\t<tr><th scope=row>3</th><td> 8.474777</td></tr>\n",
              "\t<tr><th scope=row>4</th><td>87.795035</td></tr>\n",
              "\t<tr><th scope=row>5</th><td>10.669359</td></tr>\n",
              "\t<tr><th scope=row>6</th><td>91.077175</td></tr>\n",
              "</tbody>\n",
              "</table>\n"
            ]
          },
          "metadata": {
            "tags": []
          }
        }
      ]
    },
    {
      "cell_type": "markdown",
      "metadata": {
        "id": "dU5ZQd-ppdtd"
      },
      "source": [
        "#### Profit on training data\r\n",
        "\r\n",
        "In order for your model to be considered in the profit competition, it needs to make nonnegative profit over its training set. You can check that your model satisfies this condition below:"
      ]
    },
    {
      "cell_type": "code",
      "metadata": {
        "id": "Y_Y-9Bc2pxLA",
        "colab": {
          "base_uri": "https://localhost:8080/"
        },
        "outputId": "9c365637-d655-47f6-ce56-ea4e6c42057f"
      },
      "source": [
        "print(paste('Income:', sum(prices,na.rm = TRUE)))\r\n",
        "print(paste('Losses:', sum(ydata)))\r\n",
        "\r\n",
        "if (sum(prices,na.rm = TRUE) < sum(ydata)) {\r\n",
        "    print('Your model loses money on the training data! It does not satisfy market rule 1: Non-negative training profit.')\r\n",
        "    print('This model will be disqualified from the weekly profit leaderboard, but can be submitted for educational purposes to the RMSE leaderboard.')\r\n",
        "} else {\r\n",
        "    print('Your model passes the non-negative training profit test!')\r\n",
        "}"
      ],
      "execution_count": 90,
      "outputs": [
        {
          "output_type": "stream",
          "text": [
            "[1] \"Income: 29767749.8917614\"\n",
            "[1] \"Losses: 26057988.08\"\n",
            "[1] \"Your model passes the non-negative training profit test!\"\n"
          ],
          "name": "stdout"
        }
      ]
    }
  ]
}