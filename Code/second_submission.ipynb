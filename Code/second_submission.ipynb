{
  "nbformat": 4,
  "nbformat_minor": 0,
  "metadata": {
    "kernelspec": {
      "display_name": "R",
      "language": "R",
      "name": "ir"
    },
    "language_info": {
      "codemirror_mode": "r",
      "file_extension": ".r",
      "mimetype": "text/x-r-source",
      "name": "R",
      "pygments_lexer": "r",
      "version": "3.6.1"
    },
    "colab": {
      "name": "second_submission",
      "provenance": [],
      "collapsed_sections": []
    }
  },
  "cells": [
    {
      "cell_type": "markdown",
      "metadata": {
        "id": "3SDF1057Kya4"
      },
      "source": [
        "# Packages 🗃"
      ]
    },
    {
      "cell_type": "code",
      "metadata": {
        "colab": {
          "base_uri": "https://localhost:8080/"
        },
        "id": "_CZOoT4qKsq2",
        "outputId": "e957bf9d-c752-44dc-bf6f-4cd37e52f4d6"
      },
      "source": [
        "install_packages <- function(){\r\n",
        "  install.packages(\"caret\")\r\n",
        "  install.packages(\"rpart\")\r\n",
        "  install.packages(\"dplyr\") \r\n",
        "  install.packages(\"randomForest\")\r\n",
        "  install.packages(\"gbm\")\r\n",
        "  install.packages(\"xgboost\")\r\n",
        "  install.packages(\"lightgbm\")\r\n",
        "  install.packages(\"MASS\")\r\n",
        "}\r\n",
        "install_packages()"
      ],
      "execution_count": null,
      "outputs": [
        {
          "output_type": "stream",
          "text": [
            "Installing package into ‘/usr/local/lib/R/site-library’\n",
            "(as ‘lib’ is unspecified)\n",
            "\n",
            "also installing the dependencies ‘numDeriv’, ‘SQUAREM’, ‘lava’, ‘prodlim’, ‘iterators’, ‘data.table’, ‘gower’, ‘ipred’, ‘timeDate’, ‘foreach’, ‘plyr’, ‘ModelMetrics’, ‘reshape2’, ‘recipes’, ‘pROC’\n",
            "\n",
            "\n",
            "Installing package into ‘/usr/local/lib/R/site-library’\n",
            "(as ‘lib’ is unspecified)\n",
            "\n",
            "Installing package into ‘/usr/local/lib/R/site-library’\n",
            "(as ‘lib’ is unspecified)\n",
            "\n",
            "Installing package into ‘/usr/local/lib/R/site-library’\n",
            "(as ‘lib’ is unspecified)\n",
            "\n",
            "Installing package into ‘/usr/local/lib/R/site-library’\n",
            "(as ‘lib’ is unspecified)\n",
            "\n",
            "Installing package into ‘/usr/local/lib/R/site-library’\n",
            "(as ‘lib’ is unspecified)\n",
            "\n",
            "Installing package into ‘/usr/local/lib/R/site-library’\n",
            "(as ‘lib’ is unspecified)\n",
            "\n",
            "Installing package into ‘/usr/local/lib/R/site-library’\n",
            "(as ‘lib’ is unspecified)\n",
            "\n"
          ],
          "name": "stderr"
        }
      ]
    },
    {
      "cell_type": "code",
      "metadata": {
        "id": "bAoocMpcLGu6",
        "colab": {
          "base_uri": "https://localhost:8080/"
        },
        "outputId": "cbc4cbb0-7841-4923-9fc0-b53ded6883ca"
      },
      "source": [
        "global_imports <- function()\r\n",
        "{\r\n",
        "  require(\"caret\")\r\n",
        "  require(\"rpart\")\r\n",
        "  require(\"dplyr\")\r\n",
        "  require(\"randomForest\")\r\n",
        "  require(\"gbm\")\r\n",
        "  require(\"xgboost\")\r\n",
        "  require(\"lightgbm\")\r\n",
        "  require(\"MASS\")\r\n",
        "}\r\n",
        "global_imports()"
      ],
      "execution_count": null,
      "outputs": [
        {
          "output_type": "stream",
          "text": [
            "Loading required package: caret\n",
            "\n",
            "Loading required package: lattice\n",
            "\n",
            "Loading required package: ggplot2\n",
            "\n",
            "Warning message in system(\"timedatectl\", intern = TRUE):\n",
            "“running command 'timedatectl' had status 1”\n",
            "Loading required package: rpart\n",
            "\n",
            "Loading required package: dplyr\n",
            "\n",
            "\n",
            "Attaching package: ‘dplyr’\n",
            "\n",
            "\n",
            "The following objects are masked from ‘package:stats’:\n",
            "\n",
            "    filter, lag\n",
            "\n",
            "\n",
            "The following objects are masked from ‘package:base’:\n",
            "\n",
            "    intersect, setdiff, setequal, union\n",
            "\n",
            "\n",
            "Loading required package: randomForest\n",
            "\n",
            "randomForest 4.6-14\n",
            "\n",
            "Type rfNews() to see new features/changes/bug fixes.\n",
            "\n",
            "\n",
            "Attaching package: ‘randomForest’\n",
            "\n",
            "\n",
            "The following object is masked from ‘package:dplyr’:\n",
            "\n",
            "    combine\n",
            "\n",
            "\n",
            "The following object is masked from ‘package:ggplot2’:\n",
            "\n",
            "    margin\n",
            "\n",
            "\n",
            "Loading required package: gbm\n",
            "\n",
            "Loaded gbm 2.1.8\n",
            "\n",
            "Loading required package: xgboost\n",
            "\n",
            "\n",
            "Attaching package: ‘xgboost’\n",
            "\n",
            "\n",
            "The following object is masked from ‘package:dplyr’:\n",
            "\n",
            "    slice\n",
            "\n",
            "\n",
            "Loading required package: lightgbm\n",
            "\n",
            "Loading required package: R6\n",
            "\n",
            "\n",
            "Attaching package: ‘lightgbm’\n",
            "\n",
            "\n",
            "The following objects are masked from ‘package:xgboost’:\n",
            "\n",
            "    getinfo, setinfo, slice\n",
            "\n",
            "\n",
            "The following object is masked from ‘package:dplyr’:\n",
            "\n",
            "    slice\n",
            "\n",
            "\n",
            "Loading required package: MASS\n",
            "\n",
            "\n",
            "Attaching package: ‘MASS’\n",
            "\n",
            "\n",
            "The following object is masked from ‘package:dplyr’:\n",
            "\n",
            "    select\n",
            "\n",
            "\n"
          ],
          "name": "stderr"
        }
      ]
    },
    {
      "cell_type": "markdown",
      "metadata": {
        "id": "K5rXwxwXLSUU"
      },
      "source": [
        "# Loading the data 📲"
      ]
    },
    {
      "cell_type": "code",
      "metadata": {
        "id": "HPabiGtTLUoh"
      },
      "source": [
        "db <- read.csv2(\"training.csv\",sep=',',dec='.')"
      ],
      "execution_count": null,
      "outputs": []
    },
    {
      "cell_type": "code",
      "metadata": {
        "id": "2H5bpos-rBpd"
      },
      "source": [
        "Xdata = within(db, rm('claim_amount'))\r\n",
        "ydata = db['claim_amount']"
      ],
      "execution_count": null,
      "outputs": []
    },
    {
      "cell_type": "code",
      "metadata": {
        "colab": {
          "base_uri": "https://localhost:8080/",
          "height": 34
        },
        "id": "We5qFI2wbYEU",
        "outputId": "1a29c571-eb83-4c53-9572-776e81bfb2ab"
      },
      "source": [
        "sum(is.na(db))"
      ],
      "execution_count": null,
      "outputs": [
        {
          "output_type": "display_data",
          "data": {
            "text/plain": [
              "[1] 234543"
            ],
            "text/latex": "234543",
            "text/markdown": "234543",
            "text/html": [
              "234543"
            ]
          },
          "metadata": {
            "tags": []
          }
        }
      ]
    },
    {
      "cell_type": "markdown",
      "metadata": {
        "id": "NEfcIwZ6LgA7"
      },
      "source": [
        ""
      ]
    },
    {
      "cell_type": "code",
      "metadata": {
        "id": "byo8xzTuLh8G"
      },
      "source": [
        "preprocess_X_data <- function (x_raw){\r\n",
        "\t# Data preprocessing function: given X_raw, clean the data for training or prediction.\r\n",
        "\r\n",
        "\t# Parameters\r\n",
        "\t# ----------\r\n",
        "\t# X_raw : Dataframe, with the columns described in the data dictionary.\r\n",
        "\t# \tEach row is a different contract. This data has not been processed.\r\n",
        "\r\n",
        "\t# Returns\r\n",
        "\t# -------\r\n",
        "\t# A cleaned / preprocessed version of the dataset\r\n",
        "\r\n",
        "  # YOUR CODE HERE ------------------------------------------------------\r\n",
        "\r\n",
        "  # picking features to remove\r\n",
        "  #to_remove <- c(\"id_policy\",\"year\",\"drv_sex2\",\"drv_age2\",\"drv_age_lic2\",\"vh_make_model\",\"vh_weight\",\"drv_age_lic1\",\"vh_value\",\"pol_no_claims_discount\",\"pol_pay_freq\",\"vh_type\",\"vh_fuel\")\r\n",
        "  #X <- x_raw[names(x_raw)[-which(names(x_raw)%in%to_remove)]]\r\n",
        "  X <-  dplyr::select( x_raw , -c(\"id_policy\",\"year\",\"drv_sex2\",\"drv_age2\",\"drv_age_lic2\",\"vh_make_model\",\"vh_weight\",\"drv_age_lic1\",\"vh_value\",\"pol_no_claims_discount\",\"pol_pay_freq\",\"vh_fuel\"))\r\n",
        "  \r\n",
        "  # dealing with missing data\r\n",
        "  imp <- preProcess(X, method = \"medianImpute\")\r\n",
        "  X_clean<- predict(imp, X)\r\n",
        "\r\n",
        "  # dealing with categorial variables\r\n",
        "    X_clean = X_clean %>% \r\n",
        "        mutate(pol_coverage = factor(pol_coverage)) %>%\r\n",
        "        mutate(pol_usage=factor(ifelse(pol_usage==\"AllTrips\",\"Professional\",as.character(pol_usage)))) %>% \r\n",
        "        mutate( drv_sex1 = factor(drv_sex1)) %>% \r\n",
        "        mutate( drv_drv2 = factor(drv_drv2)) %>%\r\n",
        "        mutate( vh_type = factor(vh_type)) %>%\r\n",
        "        mutate( pol_payd = factor(pol_payd))\r\n",
        "       \r\n",
        "   \r\n",
        "  # dealing with continuous variables\r\n",
        "  # drv_age1 is correlated to drv_age_lc1. also vh_weigth and vh_value. we have to choose onlyone of them\r\n",
        "\r\n",
        "  # Binerizsation\r\n",
        "  \r\n",
        "  X_clean$drv_age1_factor <- cut(X_clean$drv_age1, c(19,30, 50,80,103), right = FALSE, include.lowest = TRUE)\r\n",
        "  #X_clean <- dplyr::select(X_clean,-drv_age1)\r\n",
        "  #cuts_drv_age = quantile(X_clean$drv_age1,seq(0, 1, 0.25))\r\n",
        "  #X_clean$drv_age_factor = cut(X_clean$drv_age1, breaks=cuts_drv_age)\r\n",
        "\r\n",
        "  #X_clean <- dplyr::select(X_clean,-drv_age1)\r\n",
        " \r\n",
        "  remove(list = c(\"X\",\"imp\")) \r\n",
        "  # ---------------------------------------------------------------------\r\n",
        "  return(X_clean)\r\n",
        "}"
      ],
      "execution_count": 41,
      "outputs": []
    },
    {
      "cell_type": "code",
      "metadata": {
        "id": "Slv-hkCDsNUc"
      },
      "source": [
        "X_clean<-preprocess_X_data(Xdata)\r\n",
        "imp <- preProcess(ydata, method = \"medianImpute\")\r\n",
        "y_clean<- predict(imp, ydata)"
      ],
      "execution_count": 103,
      "outputs": []
    },
    {
      "cell_type": "code",
      "metadata": {
        "id": "jIVcr6UksYQq"
      },
      "source": [
        "# Splitting data\r\n",
        "set.seed(432)\r\n",
        "trainIndex<- createDataPartition(1:nrow(X_clean), p = 0.8,list = FALSE) \r\n",
        "df = data.frame(y_clean, X_clean)\r\n",
        "Q1 = quantile(df$claim_amount,0.25)\r\n",
        "Q3 =quantile(df$claim_amount,0.75)\r\n",
        "IQR = Q3-Q1\r\n",
        "#df<- df[df$claim_amount<=Q3+1.5*IQR,]\r\n",
        "df_train<-df[trainIndex,]\r\n",
        "df_test<-df[-trainIndex,]\r\n",
        "X_train<-X_clean[trainIndex,]\r\n",
        "y_train<-y_clean[trainIndex]\r\n",
        "X_test<-X_clean[-trainIndex,]\r\n",
        "y_test<-y_clean[-trainIndex]\r\n",
        "Y_test <-as.numeric(I(y_test>0))"
      ],
      "execution_count": 105,
      "outputs": []
    },
    {
      "cell_type": "markdown",
      "metadata": {
        "id": "CXZnv_GQjoyK"
      },
      "source": [
        "# Frequency Models"
      ]
    },
    {
      "cell_type": "code",
      "metadata": {
        "id": "6XXGOS0LaE3X",
        "colab": {
          "base_uri": "https://localhost:8080/"
        },
        "outputId": "ea5744ed-f7c3-4578-b557-8dc5405e8d0d"
      },
      "source": [
        "# GLM Models\r\n",
        "trained_model_frequency = glm(I(claim_amount>0) ~ .,\r\n",
        "                                family = binomial(link = \"logit\"),\r\n",
        "                                #offset= log(pol_duration),\r\n",
        "                                data = df_train)                             "
      ],
      "execution_count": 106,
      "outputs": [
        {
          "output_type": "stream",
          "text": [
            "Warning message:\n",
            "“glm.fit: algorithm did not converge”\n"
          ],
          "name": "stderr"
        }
      ]
    },
    {
      "cell_type": "code",
      "metadata": {
        "colab": {
          "base_uri": "https://localhost:8080/",
          "height": 34
        },
        "id": "JAEKQc-J66HK",
        "outputId": "3d027d02-6724-42ec-a9c0-bb943c3905b7"
      },
      "source": [
        "ypred_glm<-predict(trained_model_frequency, newdata = X_test, type =\"response\" ) \r\n",
        "y_pred_glm <-sapply(ypred_glm,function(x) (ifelse(x>0.6,1,0)))\r\n",
        "(MSE_glm=mean(y_pred_glm!=Y_test))"
      ],
      "execution_count": 109,
      "outputs": [
        {
          "output_type": "display_data",
          "data": {
            "text/plain": [
              "[1] 0.1073206"
            ],
            "text/latex": "0.107320644216691",
            "text/markdown": "0.107320644216691",
            "text/html": [
              "0.107320644216691"
            ]
          },
          "metadata": {
            "tags": []
          }
        }
      ]
    },
    {
      "cell_type": "code",
      "metadata": {
        "colab": {
          "base_uri": "https://localhost:8080/",
          "height": 797
        },
        "id": "V4UV3blTgOgp",
        "outputId": "fd0f90e5-cc46-4732-9eb3-bc100626aed8"
      },
      "source": [
        "summary(trained_model_frequency)"
      ],
      "execution_count": 46,
      "outputs": [
        {
          "output_type": "display_data",
          "data": {
            "text/plain": [
              "\n",
              "Call:\n",
              "glm(formula = I(claim_amount > 0) ~ ., family = binomial(link = \"logit\"), \n",
              "    data = df_train, offset = log(pol_duration))\n",
              "\n",
              "Deviance Residuals: \n",
              "    Min       1Q   Median       3Q      Max  \n",
              "-0.8992  -0.5364  -0.4415  -0.3163   3.3285  \n",
              "\n",
              "Coefficients: (4 not defined because of singularities)\n",
              "                          Estimate Std. Error z value Pr(>|z|)    \n",
              "(Intercept)             -9.671e+00  4.395e+01  -0.220   0.8259    \n",
              "pol_coverageMed1        -4.220e-01  4.014e-02 -10.514  < 2e-16 ***\n",
              "pol_coverageMed2        -3.687e-01  2.915e-02 -12.646  < 2e-16 ***\n",
              "pol_coverageMin         -1.610e+00  6.830e-02 -23.575  < 2e-16 ***\n",
              "pol_duration            -9.423e-02  1.245e-03 -75.680  < 2e-16 ***\n",
              "pol_sit_duration        -8.127e-02  4.962e-03 -16.378  < 2e-16 ***\n",
              "pol_paydNo               6.917e+00  4.395e+01   0.157   0.8750    \n",
              "pol_paydYes              6.573e+00  4.395e+01   0.150   0.8811    \n",
              "pol_usageProfessional    3.006e-01  3.332e-02   9.023  < 2e-16 ***\n",
              "pol_usageRetired        -6.807e-03  2.527e-02  -0.269   0.7876    \n",
              "pol_usageWorkPrivate            NA         NA      NA       NA    \n",
              "drv_sex1F               -2.732e-02  1.886e-02  -1.449   0.1474    \n",
              "drv_sex1M                       NA         NA      NA       NA    \n",
              "drv_drv2No              -2.671e-02  1.895e-02  -1.409   0.1587    \n",
              "drv_drv2Yes                     NA         NA      NA       NA    \n",
              "vh_age                  -2.604e-02  1.933e-03 -13.472  < 2e-16 ***\n",
              "vh_typeCommercial        1.750e-01  3.768e-02   4.644 3.42e-06 ***\n",
              "vh_typeTourism                  NA         NA      NA       NA    \n",
              "vh_speed                 3.841e-03  3.998e-04   9.607  < 2e-16 ***\n",
              "population               3.250e-05  1.315e-05   2.472   0.0134 *  \n",
              "town_surface_area       -1.104e-04  5.569e-05  -1.983   0.0473 *  \n",
              "drv_age1_factor[30,50)  -4.545e-01  4.885e-02  -9.303  < 2e-16 ***\n",
              "drv_age1_factor[50,80)  -4.389e-01  4.952e-02  -8.862  < 2e-16 ***\n",
              "drv_age1_factor[80,103] -3.150e-01  6.473e-02  -4.866 1.14e-06 ***\n",
              "---\n",
              "Signif. codes:  0 ‘***’ 0.001 ‘**’ 0.01 ‘*’ 0.05 ‘.’ 0.1 ‘ ’ 1\n",
              "\n",
              "(Dispersion parameter for binomial family taken to be 1)\n",
              "\n",
              "    Null deviance: 101181  on 136607  degrees of freedom\n",
              "Residual deviance:  89865  on 136588  degrees of freedom\n",
              "AIC: 89905\n",
              "\n",
              "Number of Fisher Scoring iterations: 7\n"
            ]
          },
          "metadata": {
            "tags": []
          }
        }
      ]
    },
    {
      "cell_type": "code",
      "metadata": {
        "id": "WRgO6VvF7uYy"
      },
      "source": [
        "trained_model_frequency_AIC <-stepAIC(trained_model_frequency,trace = FALSE)"
      ],
      "execution_count": null,
      "outputs": []
    },
    {
      "cell_type": "code",
      "metadata": {
        "id": "-pWDdFSuDBCQ",
        "colab": {
          "base_uri": "https://localhost:8080/",
          "height": 165
        },
        "outputId": "a87994e4-127d-42c9-d980-c94fba8c6783"
      },
      "source": [
        "# Decision Tree Model\r\n",
        "dtree <- rpart(I(claim_amount>0)~.,\r\n",
        "                method=\"class\",\r\n",
        "                data=df_train,\r\n",
        "                control=rpart.control(cp= 0.05)\r\n",
        "                ) "
      ],
      "execution_count": 110,
      "outputs": [
        {
          "output_type": "error",
          "ename": "ERROR",
          "evalue": "ignored",
          "traceback": [
            "Error in cbind(yval2, yprob, nodeprob): number of rows of matrices must match (see arg 2)\nTraceback:\n",
            "1. rpart(I(claim_amount > 0) ~ ., method = \"class\", data = df_train, \n .     control = rpart.control(cp = 0.05))",
            "2. cbind(yval2, yprob, nodeprob)"
          ]
        }
      ]
    },
    {
      "cell_type": "code",
      "metadata": {
        "colab": {
          "base_uri": "https://localhost:8080/",
          "height": 34
        },
        "id": "S8mNpZAepkyM",
        "outputId": "ae4e3d1e-5f57-464a-86c9-b7a67e5eb3e0"
      },
      "source": [
        "ypred_dtree<-predict(dtree, newdata = X_test,type= 'class')\r\n",
        "(MSE_dtree=mean(as.numeric(ypred_dtree)!=Y_test))"
      ],
      "execution_count": 53,
      "outputs": [
        {
          "output_type": "display_data",
          "data": {
            "text/plain": [
              "[1] 0.8926794"
            ],
            "text/latex": "0.892679355783309",
            "text/markdown": "0.892679355783309",
            "text/html": [
              "0.892679355783309"
            ]
          },
          "metadata": {
            "tags": []
          }
        }
      ]
    },
    {
      "cell_type": "code",
      "metadata": {
        "colab": {
          "base_uri": "https://localhost:8080/"
        },
        "id": "l--W-Oxlgtjv",
        "outputId": "a8b65d68-a2b4-4a5d-dc58-7fb8a4b85f71"
      },
      "source": [
        "summary(dtree)"
      ],
      "execution_count": null,
      "outputs": [
        {
          "output_type": "stream",
          "text": [
            "Call:\n",
            "rpart(formula = I(claim_amount > 0) ~ ., data = df_train, method = \"class\", \n",
            "    control = rpart.control(cp = 0.05))\n",
            "  n= 130920 \n",
            "\n",
            "  CP nsplit rel error xerror xstd\n",
            "1  0      0         1      0    0\n",
            "\n",
            "Node number 1: 130920 observations\n",
            "  predicted class=FALSE  expected loss=0.1055225  P(node) =1\n",
            "    class counts: 117105 13815\n",
            "   probabilities: 0.894 0.106 \n",
            "\n"
          ],
          "name": "stdout"
        }
      ]
    },
    {
      "cell_type": "code",
      "metadata": {
        "id": "TvOqIH9gRe_E"
      },
      "source": [
        "# Gradient Boosting Machine\r\n",
        "gbm <- gbm(I(claim_amount>0)~.,distribution=\"bernoulli\", data=df_train)#shrinkage=0.001,n.trees= 5000, n.minobsinnode=1000,cv.folds = 1)"
      ],
      "execution_count": 54,
      "outputs": []
    },
    {
      "cell_type": "code",
      "metadata": {
        "colab": {
          "base_uri": "https://localhost:8080/",
          "height": 86
        },
        "id": "wr8u_ibcdOSj",
        "outputId": "10edc405-8ca3-48e5-af8d-ec2be42f720d"
      },
      "source": [
        "ypred_gbm<-predict(gbm, newdata = X_test,type = \"response\")\r\n",
        "y_pred_gbm <-sapply(ypred_gbm,function(x) (ifelse(x>0.6,1,0)))\r\n",
        "(MSE_gbm=mean(y_pred_gbm!=Y_test))"
      ],
      "execution_count": 55,
      "outputs": [
        {
          "output_type": "stream",
          "text": [
            "Using 100 trees...\n",
            "\n",
            "\n"
          ],
          "name": "stderr"
        },
        {
          "output_type": "display_data",
          "data": {
            "text/plain": [
              "[1] 0.1073206"
            ],
            "text/latex": "0.107320644216691",
            "text/markdown": "0.107320644216691",
            "text/html": [
              "0.107320644216691"
            ]
          },
          "metadata": {
            "tags": []
          }
        }
      ]
    },
    {
      "cell_type": "markdown",
      "metadata": {
        "id": "alePeKF9kBym"
      },
      "source": [
        "# Severity Models"
      ]
    },
    {
      "cell_type": "code",
      "metadata": {
        "id": "qm6aSUtdj5KI"
      },
      "source": [
        "# lm MOdel\r\n",
        "lm = lm(log(claim_amount) ~1,data = df_train,subset = claim_amount>0)"
      ],
      "execution_count": 58,
      "outputs": []
    },
    {
      "cell_type": "code",
      "metadata": {
        "colab": {
          "base_uri": "https://localhost:8080/",
          "height": 34
        },
        "id": "FdYjI_4rdsJK",
        "outputId": "a6699812-b5c2-4af6-decf-e227eb93b493"
      },
      "source": [
        "ypred_lm<-exp(predict(lm, newdata = X_test))\r\n",
        "(MSE_bm=sqrt(mean((ypred_lm-y_test)^2)))"
      ],
      "execution_count": 59,
      "outputs": [
        {
          "output_type": "display_data",
          "data": {
            "text/plain": [
              "[1] 1072.875"
            ],
            "text/latex": "1072.87498259172",
            "text/markdown": "1072.87498259172",
            "text/html": [
              "1072.87498259172"
            ]
          },
          "metadata": {
            "tags": []
          }
        }
      ]
    },
    {
      "cell_type": "code",
      "metadata": {
        "colab": {
          "base_uri": "https://localhost:8080/",
          "height": 294
        },
        "id": "YHBFeUyJu1F3",
        "outputId": "c28a9df9-4345-4544-9a00-5cb96875738a"
      },
      "source": [
        "summary(lm)"
      ],
      "execution_count": null,
      "outputs": [
        {
          "output_type": "display_data",
          "data": {
            "text/plain": [
              "\n",
              "Call:\n",
              "lm(formula = log(claim_amount) ~ 1, data = df_train, subset = claim_amount > \n",
              "    0)\n",
              "\n",
              "Residuals:\n",
              "     Min       1Q   Median       3Q      Max \n",
              "-10.3482  -0.6788   0.0778   0.7194   4.9762 \n",
              "\n",
              "Coefficients:\n",
              "            Estimate Std. Error t value Pr(>|t|)    \n",
              "(Intercept) 6.436186   0.009844   653.8   <2e-16 ***\n",
              "---\n",
              "Signif. codes:  0 ‘***’ 0.001 ‘**’ 0.01 ‘*’ 0.05 ‘.’ 0.1 ‘ ’ 1\n",
              "\n",
              "Residual standard error: 1.157 on 13814 degrees of freedom\n"
            ]
          },
          "metadata": {
            "tags": []
          }
        }
      ]
    },
    {
      "cell_type": "code",
      "metadata": {
        "colab": {
          "base_uri": "https://localhost:8080/",
          "height": 34
        },
        "id": "BshWzx6Zw-Vy",
        "outputId": "c651d96b-7c3b-4312-f983-1b969d933e43"
      },
      "source": [
        "#glm\r\n",
        "glm_s = glm(claim_amount ~.,family=Gamma,data = df_train,subset = claim_amount>0)\r\n",
        "ypred_glm_s<-predict(glm_s, newdata = X_test,type = \"response\")\r\n",
        "(MSE_glm_s=sqrt(mean((ypred_glm_s-y_test)^2)))"
      ],
      "execution_count": 96,
      "outputs": [
        {
          "output_type": "display_data",
          "data": {
            "text/plain": [
              "[1] 1343.409"
            ],
            "text/latex": "1343.40907459619",
            "text/markdown": "1343.40907459619",
            "text/html": [
              "1343.40907459619"
            ]
          },
          "metadata": {
            "tags": []
          }
        }
      ]
    },
    {
      "cell_type": "code",
      "metadata": {
        "colab": {
          "base_uri": "https://localhost:8080/",
          "height": 437
        },
        "id": "FnauyhejzqyR",
        "outputId": "9871faf9-6655-4d34-bd48-14e4ba79a34f"
      },
      "source": [
        "boxplot(y_train)"
      ],
      "execution_count": 100,
      "outputs": [
        {
          "output_type": "display_data",
          "data": {
            "image/png": "[encoded data removed]",
            "text/plain": [
              "plot without title"
            ]
          },
          "metadata": {
            "tags": [],
            "image/png": {
              "width": 420,
              "height": 420
            }
          }
        }
      ]
    },
    {
      "cell_type": "code",
      "metadata": {
        "colab": {
          "base_uri": "https://localhost:8080/",
          "height": 34
        },
        "id": "9lcvNtBzysjU",
        "outputId": "df345d88-b078-4e5e-d981-8af43a40e49e"
      },
      "source": [
        "# Decision Tree Model\r\n",
        "dtree_s <- rpart(claim_amount~.,data=df_train,subset = claim_amount>0,parms=list(shrink=1),control=rpart.control(cp= 0.001, minsplit = 1000))\r\n",
        "ypred_dtree_s<-predict(dtree_s, newdata = X_test)\r\n",
        "(MSE_dtree_s=sqrt(mean((ypred_dtree_s-y_test)^2)))              "
      ],
      "execution_count": null,
      "outputs": [
        {
          "output_type": "display_data",
          "data": {
            "text/plain": [
              "[1] 1367.301"
            ],
            "text/latex": "1367.30060614508",
            "text/markdown": "1367.30060614508",
            "text/html": [
              "1367.30060614508"
            ]
          },
          "metadata": {
            "tags": []
          }
        }
      ]
    },
    {
      "cell_type": "code",
      "metadata": {
        "colab": {
          "base_uri": "https://localhost:8080/",
          "height": 104
        },
        "id": "84sHIdB5zB-B",
        "outputId": "ed86fae7-10a0-497d-ceba-8873e584d6ed"
      },
      "source": [
        "# gbm\r\n",
        "df_train_s <- df_train[df_train$claim_amount>0,]\r\n",
        "gbm_s <- gbm(log(claim_amount)~.,data=df_train_s,shrinkage=0.001,n.trees= 5000, n.minobsinnode=2000)\r\n",
        "ypred_gbm_s<-exp(predict(gbm_s, newdata = X_test))\r\n",
        "(MSE_gbm_s=sqrt(mean((ypred_gbm_s-y_test)^2)))   "
      ],
      "execution_count": null,
      "outputs": [
        {
          "output_type": "stream",
          "text": [
            "Distribution not specified, assuming gaussian ...\n"
          ],
          "name": "stdout"
        },
        {
          "output_type": "stream",
          "text": [
            "Using 5000 trees...\n",
            "\n",
            "\n"
          ],
          "name": "stderr"
        },
        {
          "output_type": "display_data",
          "data": {
            "text/plain": [
              "[1] 1088.009"
            ],
            "text/latex": "1088.00937197365",
            "text/markdown": "1088.00937197365",
            "text/html": [
              "1088.00937197365"
            ]
          },
          "metadata": {
            "tags": []
          }
        }
      ]
    },
    {
      "cell_type": "code",
      "metadata": {
        "colab": {
          "base_uri": "https://localhost:8080/",
          "height": 34
        },
        "id": "748--xKRKJ3l",
        "outputId": "073ef5cc-6c4d-4659-e978-ee61db4734de"
      },
      "source": [
        "dim(df)"
      ],
      "execution_count": null,
      "outputs": [
        {
          "output_type": "display_data",
          "data": {
            "text/plain": [
              "[1] 163648     13"
            ],
            "text/latex": "\\begin{enumerate*}\n\\item 163648\n\\item 13\n\\end{enumerate*}\n",
            "text/markdown": "1. 163648\n2. 13\n\n\n",
            "text/html": [
              "<style>\n",
              ".list-inline {list-style: none; margin:0; padding: 0}\n",
              ".list-inline>li {display: inline-block}\n",
              ".list-inline>li:not(:last-child)::after {content: \"\\00b7\"; padding: 0 .5ex}\n",
              "</style>\n",
              "<ol class=list-inline><li>163648</li><li>13</li></ol>\n"
            ]
          },
          "metadata": {
            "tags": []
          }
        }
      ]
    },
    {
      "cell_type": "code",
      "metadata": {
        "colab": {
          "base_uri": "https://localhost:8080/",
          "height": 460
        },
        "id": "7bznoKU44J7b",
        "outputId": "1dcf7465-e7bc-431a-c9c3-f0bd0b13f04c"
      },
      "source": [
        "# Xgboost\r\n",
        "training_set<-df_train[df_train$claim_amount>0,]\r\n",
        "folds = createFolds(training_set$claim_amount, k = 10)\r\n",
        "cv = lapply(folds, function(x) {\r\n",
        "  training_fold = training_set[-x, ]\r\n",
        "  test_fold = training_set[x, ]\r\n",
        "  classifier = xgboost(data = as.matrix(training_fold[-1]), label = training_fold$claim_amount, nrounds = 10)\r\n",
        "  y_pred = exp(predict(classifier, newdata = as.matrix(test_fold[-1])))\r\n",
        "  y_pred = (y_pred >= 0.5)\r\n",
        "  cm = table(test_fold[, 1], y_pred)\r\n",
        "  accuracy = (cm[1,1] + cm[2,2]) / (cm[1,1] + cm[2,2] + cm[1,2] + cm[2,1])\r\n",
        "  return(accuracy)\r\n",
        "  })\r\n",
        "accuracy = mean(as.numeric(cv))"
      ],
      "execution_count": null,
      "outputs": [
        {
          "output_type": "error",
          "ename": "ERROR",
          "evalue": "ignored",
          "traceback": [
            "Error in xgb.DMatrix(data, label = label, missing = missing): 'data' has class 'character' and length 149196.\n  'data' accepts either a numeric matrix or a single filename.\nTraceback:\n",
            "1. lapply(folds, function(x) {\n .     training_fold = training_set[-x, ]\n .     test_fold = training_set[x, ]\n .     classifier = xgboost(data = as.matrix(training_fold[-1]), \n .         label = training_fold$claim_amount, nrounds = 10)\n .     y_pred = exp(predict(classifier, newdata = as.matrix(test_fold[-1])))\n .     y_pred = (y_pred >= 0.5)\n .     cm = table(test_fold[, 1], y_pred)\n .     accuracy = (cm[1, 1] + cm[2, 2])/(cm[1, 1] + cm[2, 2] + cm[1, \n .         2] + cm[2, 1])\n .     return(accuracy)\n . })",
            "2. FUN(X[[i]], ...)",
            "3. xgboost(data = as.matrix(training_fold[-1]), label = training_fold$claim_amount, \n .     nrounds = 10)   # at line 7 of file <text>",
            "4. xgb.get.DMatrix(data, label, missing, weight)",
            "5. xgb.DMatrix(data, label = label, missing = missing)",
            "6. stop(\"'data' has class 'character' and length \", length(data), \n .     \".\\n  'data' accepts either a numeric matrix or a single filename.\")"
          ]
        }
      ]
    },
    {
      "cell_type": "code",
      "metadata": {
        "colab": {
          "base_uri": "https://localhost:8080/",
          "height": 96
        },
        "id": "4aYW4VBZVLVA",
        "outputId": "ed6db89c-2de5-4518-f6b7-2f52fe836f36"
      },
      "source": [
        "# lightgbm\r\n",
        "train <-df_train[df_train$claim_amount>0,]\r\n",
        "dtrain <- lgb.Dataset(train[-1], label = train$claim_amount)\r\n",
        "model <- lgb.cv(\r\n",
        "    params = list(\r\n",
        "        objective = \"regression\"\r\n",
        "        , metric = \"mse\"\r\n",
        "    )\r\n",
        "    , data = dtrain\r\n",
        ")"
      ],
      "execution_count": null,
      "outputs": [
        {
          "output_type": "error",
          "ename": "ERROR",
          "evalue": "ignored",
          "traceback": [
            "Error in lgb.Dataset(train[-1], label = train$claim_amount): could not find function \"lgb.Dataset\"\nTraceback:\n"
          ]
        }
      ]
    },
    {
      "cell_type": "code",
      "metadata": {
        "colab": {
          "base_uri": "https://localhost:8080/"
        },
        "id": "SPnR3m266f5P",
        "outputId": "7eccd4a0-6cf4-41c2-ceae-75a11ef69846"
      },
      "source": [
        "str(df_train)"
      ],
      "execution_count": null,
      "outputs": [
        {
          "output_type": "stream",
          "text": [
            "'data.frame':\t130920 obs. of  13 variables:\n",
            " $ claim_amount     : num  0 0 0 0 0 0 0 0 0 0 ...\n",
            " $ pol_coverage     : Factor w/ 4 levels \"Max\",\"Med1\",\"Med2\",..: 3 3 3 2 3 1 4 2 1 3 ...\n",
            " $ pol_duration     : int  5 6 8 2 8 4 6 29 6 2 ...\n",
            " $ pol_sit_duration : int  1 1 5 2 2 2 3 1 3 2 ...\n",
            " $ pol_payd         : Factor w/ 2 levels \"No\",\"Yes\": 1 1 1 1 1 1 1 1 1 1 ...\n",
            " $ pol_usage        : Factor w/ 4 levels \"Professional\",..: 4 4 4 2 2 4 4 4 4 4 ...\n",
            " $ drv_sex1         : Factor w/ 3 levels \"\",\"F\",\"M\": 3 3 2 2 2 2 3 3 2 3 ...\n",
            " $ drv_age1         : num  35 60 54 65 68 51 53 55 52 47 ...\n",
            " $ drv_drv2         : Factor w/ 3 levels \"\",\"No\",\"Yes\": 3 2 2 2 2 2 2 2 2 2 ...\n",
            " $ vh_age           : num  8 10 4 13 16 28 14 15 12 15 ...\n",
            " $ vh_speed         : num  174 174 149 200 196 173 189 188 200 159 ...\n",
            " $ population       : num  1270 1290 180 30 210 1760 810 120 50 870 ...\n",
            " $ town_surface_area: num  33.1 51.3 219.7 70.3 366.5 ...\n"
          ],
          "name": "stdout"
        }
      ]
    },
    {
      "cell_type": "markdown",
      "metadata": {
        "id": "DrpMdu72my-k"
      },
      "source": [
        "## Define the training logic"
      ]
    },
    {
      "cell_type": "code",
      "metadata": {
        "id": "e9wzf5vMmiK4"
      },
      "source": [
        "fit_model <- function (x_raw, y_raw){  # ! \r\n",
        "\t# Model training function: given training data (X_raw, y_raw), train this pricing model.\r\n",
        "\r\n",
        "\t# Parameters\r\n",
        "\t# ----------\r\n",
        "\t# X_raw : Dataframe, with the columns described in the data dictionary.\r\n",
        "\t# \tEach row is a different contract. This data has not been processed.\r\n",
        "\t# y_raw : a array, with the value of the claims, in the same order as contracts in X_raw.\r\n",
        "\t# \tA one dimensional array, with values either 0 (most entries) or >0.\r\n",
        "\r\n",
        "\t# Returns\r\n",
        "\t# -------\r\n",
        "\t# self: (optional), this instance of the fitted model.\r\n",
        "\r\n",
        "\t\r\n",
        "  # This function trains your models and returns the trained model.\r\n",
        "  \r\n",
        "  # YOUR CODE HERE ------------------------------------------------------\r\n",
        "\r\n",
        "  X_clean = preprocess_X_data(x_raw)  # preprocess your data before fitting\r\n",
        "  df = data.frame(y_raw, X_clean)\r\n",
        "  rm(X_clean)\r\n",
        "  # training frequency model (i.e. how often do claims occur)\r\n",
        "  trained_model_frequency = glm(I(claim_amount>0) ~ .,family = binomial,data = df)                              \r\n",
        "\r\n",
        "  # training a mean severity model (i.e. what is the average claim cost)\r\n",
        "  trained_model_avg_severity = lm(log(claim_amount) ~ 1,\r\n",
        "                                data = df,\r\n",
        "                                offset =log(pol_duration),\r\n",
        "                                subset = claim_amount>0)\r\n",
        "  rm(df)\r\n",
        "  \r\n",
        "  # defining a list and putting the trained models in there\r\n",
        "  trained_model = list(occurence = trained_model_frequency,\r\n",
        "                       cost = trained_model_avg_severity)\r\n",
        "\r\n",
        "  # ---------------------------------------------------------------------\r\n",
        "  # The result trained_model is something that you will save in the next section\r\n",
        "  \r\n",
        "  return(trained_model)\r\n",
        "}"
      ],
      "execution_count": null,
      "outputs": []
    },
    {
      "cell_type": "code",
      "metadata": {
        "id": "SF-MxjUTnDoI"
      },
      "source": [
        "model = fit_model(Xdata, ydata)"
      ],
      "execution_count": null,
      "outputs": []
    },
    {
      "cell_type": "markdown",
      "metadata": {
        "id": "Xkmf8IbdnKh1"
      },
      "source": [
        "## Saving your model"
      ]
    },
    {
      "cell_type": "code",
      "metadata": {
        "id": "kJlhVWzUnMeh"
      },
      "source": [
        "save_model <- function(model){\r\n",
        "  # Saves this trained model to a file.\r\n",
        "\r\n",
        "  # This is used to save the model after training, so that it can be used for prediction later.\r\n",
        "\r\n",
        "  # Do not touch this unless necessary (if you need specific features). If you do, do not\r\n",
        "  #  forget to update the load_model method to be compatible.\r\n",
        "\t\r\n",
        "  # The default is to save it in 'trained_model.RData', but change this if you \r\n",
        "  # are using a pacakge that requires a different saving format.\r\n",
        "  # For h2o models see this discussion: https://discourse.aicrowd.com/t/any-tips-for-successfully-submitting-an-h2o-model/4194/\r\n",
        "\r\n",
        "  save(model, file='trained_model.RData')\r\n",
        "}"
      ],
      "execution_count": null,
      "outputs": []
    },
    {
      "cell_type": "code",
      "metadata": {
        "id": "yLvgT69JoKVm"
      },
      "source": [
        "load_model <- function(){ \r\n",
        " # Load a saved trained model from the file `trained_model.RData`.\r\n",
        " # This is called by the server to evaluate your submission on hidden data.\r\n",
        "\r\n",
        "\r\n",
        " # Only modify this *if* you modified save_model.\r\n",
        "\r\n",
        "  load('trained_model.RData')\r\n",
        "  return(model)\r\n",
        "}"
      ],
      "execution_count": null,
      "outputs": []
    },
    {
      "cell_type": "code",
      "metadata": {
        "id": "1so7F4OwoXDM"
      },
      "source": [
        "#model = load_model(MODEL_OUTPUT_PATH)"
      ],
      "execution_count": null,
      "outputs": []
    },
    {
      "cell_type": "markdown",
      "metadata": {
        "id": "w5SHaeAKocDQ"
      },
      "source": [
        "# Predicting the claims 💵\r\n",
        "\r\n",
        "The second function, `predict_expected_claim`, takes your trained model and a dataframe of contracts, and outputs a prediction for the (expected) claim incurred by each contract. This expected claim can be seen as the probability of an accident multiplied by the cost of that accident.\r\n",
        "\r\n",
        "This is the function used to compute the _RMSE_ leaderboard, where the model best able to predict claims wins."
      ]
    },
    {
      "cell_type": "code",
      "metadata": {
        "id": "WclbGFcFozrr"
      },
      "source": [
        "predict_expected_claim <- function(model, x_raw){\r\n",
        "\t# Model prediction function: predicts the average claim based on the pricing model.\r\n",
        "\r\n",
        "\t# This functions estimates the expected claim made by a contract (typically, as the product\r\n",
        "\t# of the probability of having a claim multiplied by the average cost of a claim if it occurs),\r\n",
        "\t# for each contract in the dataset X_raw.\r\n",
        "\r\n",
        "\t# This is the function used in the RMSE leaderboard, and hence the output should be as close\r\n",
        "\t# as possible to the expected cost of a contract.\r\n",
        "\r\n",
        "\t# Parameters\r\n",
        "\t# ----------\r\n",
        "\t# X_raw : Dataframe, with the columns described in the data dictionary.\r\n",
        "\t# \tEach row is a different contract. This data has not been processed.\r\n",
        "\r\n",
        "\t# Returns\r\n",
        "\t# -------\r\n",
        "\t# avg_claims: a one-dimensional array of the same length as X_raw, with one\r\n",
        "\t#     average claim per contract (in same order). These average claims must be POSITIVE (>0).\r\n",
        "\r\n",
        "\r\n",
        "  # YOUR CODE HERE ------------------------------------------------------\r\n",
        "\r\n",
        "  X_clean = preprocess_X_data(x_raw)  # preprocess your data before fitting\r\n",
        "\r\n",
        "  expected_frequency = predict(model$occurence, newdata = X_clean, type= \"response\")\r\n",
        "  expected_severity = exp(predict(model$cost, newdata = X_clean, type= \"response\"))\r\n",
        "\r\n",
        "  expected_claims = expected_frequency * expected_severity\r\n",
        "  rm(X_clean)\r\n",
        "\r\n",
        "  return(expected_claims)  \r\n",
        "}"
      ],
      "execution_count": null,
      "outputs": []
    },
    {
      "cell_type": "code",
      "metadata": {
        "id": "27fDZBIepCzN"
      },
      "source": [
        "claims <- predict_expected_claim(model, Xdata)"
      ],
      "execution_count": null,
      "outputs": []
    },
    {
      "cell_type": "markdown",
      "metadata": {
        "id": "rwFnHKBipI__"
      },
      "source": [
        "# Pricing contracts 💰\r\n",
        "\r\n",
        "The third and final function, `predict_premium`, takes your trained model and a dataframe of contracts, and outputs a _price_ for each of these contracts. **You are free to set this prices however you want!** These prices will then be used in competition with other models: contracts will choose the model offering the lowest price, and this model will have to pay the cost if an accident occurs.\r\n",
        "\r\n",
        "This is the function used to compute the _profit_ leaderboard: your model will participate in many markets of size 10, populated by other participants' model, and we compute the average profit of your model over all the markets it participated in."
      ]
    },
    {
      "cell_type": "code",
      "metadata": {
        "id": "T7vKC2SJpMyJ"
      },
      "source": [
        "predict_premium <- function(model, x_raw){\r\n",
        "  # Model prediction function: predicts premiums based on the pricing model.\r\n",
        "\r\n",
        "  # This function outputs the prices that will be offered to the contracts in X_raw.\r\n",
        "  # premium will typically depend on the average claim predicted in \r\n",
        "  # predict_expected_claim, and will add some pricing strategy on top.\r\n",
        "\r\n",
        "  # This is the function used in the average profit leaderboard. Prices output here will\r\n",
        "  # be used in competition with other models, so feel free to use a pricing strategy.\r\n",
        "\r\n",
        "  # Parameters\r\n",
        "  # ----------\r\n",
        "  # X_raw : Dataframe, with the columns described in the data dictionary.\r\n",
        "  # \tEach row is a different contract. This data has not been processed.\r\n",
        "\r\n",
        "  # Returns\r\n",
        "  # -------\r\n",
        "  # prices: a one-dimensional array of the same length as X_raw, with one\r\n",
        "  #     price per contract (in same order). These prices must be POSITIVE (>0).\r\n",
        "\r\n",
        "\r\n",
        "  # YOUR CODE HERE ------------------------------------------------------\r\n",
        "  \r\n",
        "  return(predict_expected_claim(model, x_raw) * 1.5) # boost prices by 50%\r\n",
        "}\r\n"
      ],
      "execution_count": null,
      "outputs": []
    },
    {
      "cell_type": "code",
      "metadata": {
        "id": "i4UdEMrQppgC",
        "colab": {
          "base_uri": "https://localhost:8080/",
          "height": 236
        },
        "outputId": "abea1fec-0154-4bbf-b3d5-c35750a84d60"
      },
      "source": [
        "prices <- predict_premium(model, Xdata)\r\n",
        "as.matrix(head(prices))"
      ],
      "execution_count": null,
      "outputs": [
        {
          "output_type": "display_data",
          "data": {
            "text/plain": [
              "  [,1]     \n",
              "1 64.030718\n",
              "2 77.556130\n",
              "3  8.474777\n",
              "4 87.795035\n",
              "5 10.669359\n",
              "6 91.077175"
            ],
            "text/latex": "A matrix: 6 × 1 of type dbl\n\\begin{tabular}{r|l}\n\t1 & 64.030718\\\\\n\t2 & 77.556130\\\\\n\t3 &  8.474777\\\\\n\t4 & 87.795035\\\\\n\t5 & 10.669359\\\\\n\t6 & 91.077175\\\\\n\\end{tabular}\n",
            "text/markdown": "\nA matrix: 6 × 1 of type dbl\n\n| 1 | 64.030718 |\n| 2 | 77.556130 |\n| 3 |  8.474777 |\n| 4 | 87.795035 |\n| 5 | 10.669359 |\n| 6 | 91.077175 |\n\n",
            "text/html": [
              "<table class=\"dataframe\">\n",
              "<caption>A matrix: 6 × 1 of type dbl</caption>\n",
              "<tbody>\n",
              "\t<tr><th scope=row>1</th><td>64.030718</td></tr>\n",
              "\t<tr><th scope=row>2</th><td>77.556130</td></tr>\n",
              "\t<tr><th scope=row>3</th><td> 8.474777</td></tr>\n",
              "\t<tr><th scope=row>4</th><td>87.795035</td></tr>\n",
              "\t<tr><th scope=row>5</th><td>10.669359</td></tr>\n",
              "\t<tr><th scope=row>6</th><td>91.077175</td></tr>\n",
              "</tbody>\n",
              "</table>\n"
            ]
          },
          "metadata": {
            "tags": []
          }
        }
      ]
    },
    {
      "cell_type": "markdown",
      "metadata": {
        "id": "dU5ZQd-ppdtd"
      },
      "source": [
        "#### Profit on training data\r\n",
        "\r\n",
        "In order for your model to be considered in the profit competition, it needs to make nonnegative profit over its training set. You can check that your model satisfies this condition below:"
      ]
    },
    {
      "cell_type": "code",
      "metadata": {
        "id": "Y_Y-9Bc2pxLA",
        "colab": {
          "base_uri": "https://localhost:8080/"
        },
        "outputId": "9c365637-d655-47f6-ce56-ea4e6c42057f"
      },
      "source": [
        "print(paste('Income:', sum(prices,na.rm = TRUE)))\r\n",
        "print(paste('Losses:', sum(ydata)))\r\n",
        "\r\n",
        "if (sum(prices,na.rm = TRUE) < sum(ydata)) {\r\n",
        "    print('Your model loses money on the training data! It does not satisfy market rule 1: Non-negative training profit.')\r\n",
        "    print('This model will be disqualified from the weekly profit leaderboard, but can be submitted for educational purposes to the RMSE leaderboard.')\r\n",
        "} else {\r\n",
        "    print('Your model passes the non-negative training profit test!')\r\n",
        "}"
      ],
      "execution_count": null,
      "outputs": [
        {
          "output_type": "stream",
          "text": [
            "[1] \"Income: 29767749.8917614\"\n",
            "[1] \"Losses: 26057988.08\"\n",
            "[1] \"Your model passes the non-negative training profit test!\"\n"
          ],
          "name": "stdout"
        }
      ]
    }
  ]
}